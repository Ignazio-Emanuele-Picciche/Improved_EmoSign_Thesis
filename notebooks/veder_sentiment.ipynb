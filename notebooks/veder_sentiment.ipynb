{
 "cells": [
  {
   "cell_type": "code",
   "execution_count": 15,
   "id": "faba8554",
   "metadata": {},
   "outputs": [],
   "source": [
    "# Step 1: Librerie necessarie\n",
    "from vaderSentiment.vaderSentiment import SentimentIntensityAnalyzer"
   ]
  },
  {
   "cell_type": "code",
   "execution_count": 16,
   "id": "a0266837",
   "metadata": {},
   "outputs": [],
   "source": [
    "# # Step 2: Funzione per calcolo sentiment\n",
    "# def calculate_sentiment(text):\n",
    "#     analyzer = SentimentIntensityAnalyzer()\n",
    "#     scores = analyzer.polarity_scores(text)\n",
    "#     return scores"
   ]
  },
  {
   "cell_type": "code",
   "execution_count": null,
   "id": "aeb5f728",
   "metadata": {},
   "outputs": [],
   "source": []
  },
  {
   "cell_type": "code",
   "execution_count": 17,
   "id": "a4fe5824",
   "metadata": {},
   "outputs": [],
   "source": [
    "# sentences = [\n",
    "#     # \"VADER is smart, handsome, and funny.\",  # positive sentence example\n",
    "#     # \"VADER is not smart, handsome, nor funny.\",  # negation sentence example\n",
    "#     # \"VADER is smart, handsome, and funny!\",  # punctuation emphasis handled correctly (sentiment intensity adjusted)\n",
    "#     # \"VADER is very smart, handsome, and funny.\",  # booster words handled correctly (sentiment intensity adjusted)\n",
    "#     # \"VADER is VERY SMART, handsome, and FUNNY.\",  # emphasis for ALLCAPS handled\n",
    "#     # \"VADER is VERY SMART, handsome, and FUNNY!!!\",  # combination of signals - VADER appropriately adjusts intensity\n",
    "#     # \"VADER is VERY SMART, uber handsome, and FRIGGIN FUNNY!!!\",  # booster words & punctuation make this close to ceiling for score\n",
    "#     # \"The book was good.\",  # positive sentence\n",
    "#     # \"The book was kind of good.\",  # qualified positive sentence is handled correctly (intensity adjusted)\n",
    "#     # \"The plot was good, but the characters are uncompelling and the dialog is not great.\",  # mixed negation sentence\n",
    "#     # \"At least it isn't a horrible book.\",  # negated negative sentence with contraction\n",
    "#     # \"Make sure you :) or :D today!\",  # emoticons handled\n",
    "#     # \"Today SUX!\",  # negative slang with capitalization emphasis\n",
    "#     # \"Today only kinda sux! But I'll get by, lol\",  # mixed sentiment example with slang and constrastive conjunction \"but\"\n",
    "#     # \"The weather is lousy today\",  # mixed sentiment with contrastive conjunction\n",
    "#     # \"The family adopted those puppies. \",\n",
    "#     \"Last break, I completed all of my homework ahead of time. \"\n",
    "#     \"Last night I did a lot of homework. \",\n",
    "#     \"know that I should enter the haunted house at my own risk.\",\n",
    "#     \"I love action movies, not boring dramas.\",\n",
    "#     \"I watched a movie last night and the actor was good.\",\n",
    "#     \"My teacher is a good advisior.\",\n",
    "#     \"Alcohol is not always good.\",\n",
    "#     \"I tend to exercise after class.\",\n",
    "#     \"Last night, there was an accident and traffic was horrible.\",\n",
    "#     \"I watched a movie last night. I was really scared.\",\n",
    "#     \"My mom is getting old.\",\n",
    "#     \"Age isn't important.\",\n",
    "#     \"My ancestors are from Germany.\",\n",
    "#     \"I watched a movie last night and the actor was good.\",\n",
    "#     \"I was picked to join the club. Wow, it was an honor.\",\n",
    "#     \"I love riding in airplanes and flying different places.\",\n",
    "#     \"My ancestors are from Germany.\",\n",
    "#     \"Last night, there was an accident and traffic was horrible.\",\n",
    "#     \"My boss works in an office right above me.\",\n",
    "#     \"I have an appointment this afternoon with my teacher.\",\n",
    "#     \"I asked my teacher for some advice and we had a discussion.\",\n",
    "#     \"I noticed my sister acting strange.\",\n",
    "#     \"Last night I did a lot of homework.\",\n",
    "#     \"My boss works in an office right above me.\",\n",
    "#     \"I got a D in the class; I accepted it.\",\n",
    "#     \"I watched a movie last night and the actor was good.\",\n",
    "#     \"I noticed my sister acting strange.\",\n",
    "#     \"I love action movies, not boring dramas.\",\n",
    "#     \"I asked my teacher for some advice and we had a discussion.\",\n",
    "#     \"My teacher is a good advisior.\",\n",
    "#     \"I watched a movie last night. I was really scared.\",\n",
    "#     \"This afternoon I'm going to the store.\",\n",
    "# ]"
   ]
  },
  {
   "cell_type": "code",
   "execution_count": 18,
   "id": "2bccf1eb",
   "metadata": {},
   "outputs": [],
   "source": [
    "# # Step 3: Estrarre punteggi di sentiment\n",
    "# analyzer = SentimentIntensityAnalyzer()\n",
    "# for sentence in sentences:\n",
    "#     vs = analyzer.polarity_scores(sentence)\n",
    "#     print(\"{:-<65} {}\".format(sentence, str(vs)))"
   ]
  },
  {
   "cell_type": "code",
   "execution_count": 19,
   "id": "4d9035e6",
   "metadata": {},
   "outputs": [
    {
     "name": "stdout",
     "output_type": "stream",
     "text": [
      "Leggendo il file Excel...\n",
      "\n",
      "Colonne disponibili: ['VIDEO_ID', 'VIDEO_NAME', 'SENTENCE_ID', 'SENTENCE_NAME', 'START', 'END', 'SENTENCE']\n",
      "Numero totale di righe: 1741\n",
      "\n",
      "Creato mapping per 1739 video-caption pairs (solo video esistenti)\n",
      "Esempi di mapping:\n",
      "1. Video: -d5dN54tH2E_0-1-rgb_front\n",
      "   Caption: We're going to work on a arm drill that will help you have graceful hand movements in front of you....\n",
      "2. Video: -d5dN54tH2E_1-1-rgb_front\n",
      "   Caption: I call it painting the wall....\n",
      "3. Video: -d5dN54tH2E_10-1-rgb_front\n",
      "   Caption: So we're going to go up and down...\n"
     ]
    }
   ],
   "source": [
    "# Script per leggere il file Excel e creare un mapping tra nomi video e captions\n",
    "import pandas as pd\n",
    "import os\n",
    "\n",
    "# Percorso del file Excel\n",
    "excel_path = \"../data/raw/how2sign_val.xlsx\"\n",
    "video_folder = \"../data/raw/raw_videos\"\n",
    "\n",
    "# Legge il file Excel\n",
    "print(\"Leggendo il file Excel...\")\n",
    "df = pd.read_excel(excel_path)\n",
    "\n",
    "# Mostra le prime righe per capire la struttura\n",
    "# print(\"Prime 5 righe del dataset:\")\n",
    "# print(df.head())\n",
    "print(f\"\\nColonne disponibili: {list(df.columns)}\")\n",
    "print(f\"Numero totale di righe: {len(df)}\")\n",
    "\n",
    "# Estrae le frasi (assumendo che sia l'ultima colonna)\n",
    "sentences = df.iloc[:, -1].dropna().tolist()\n",
    "\n",
    "# Assumendo che ci sia una colonna con i nomi dei video\n",
    "if \"SENTENCE_NAME\" in df.columns:\n",
    "    video_names = df[\"SENTENCE_NAME\"].dropna().tolist()\n",
    "\n",
    "# Filtra i video che esistono nella cartella raw_videos\n",
    "existing_videos = set(os.listdir(video_folder))\n",
    "video_caption_mapping = {}\n",
    "for i, (video, caption) in enumerate(zip(video_names, sentences)):\n",
    "    video_file = f\"{video}.mp4\"\n",
    "    if video_file in existing_videos and pd.notna(caption):\n",
    "        video_caption_mapping[video] = caption\n",
    "\n",
    "print(\n",
    "    f\"\\nCreato mapping per {len(video_caption_mapping)} video-caption pairs (solo video esistenti)\"\n",
    ")\n",
    "print(\"Esempi di mapping:\")\n",
    "for i, (video, caption) in enumerate(list(video_caption_mapping.items())[:3]):\n",
    "    print(f\"{i+1}. Video: {video}\")\n",
    "    print(f\"   Caption: {caption[:100]}...\")"
   ]
  },
  {
   "cell_type": "code",
   "execution_count": 20,
   "id": "f4fc0e9b",
   "metadata": {},
   "outputs": [
    {
     "name": "stdout",
     "output_type": "stream",
     "text": [
      "Distribuzione sentiment:\n",
      "Positive: 617 esempi\n",
      "Negative: 140 esempi\n",
      "Neutral: 982 esempi\n",
      "Totale: 1739 esempi\n",
      "\n",
      "Esempi positivi:\n",
      "Video: -d5dN54tH2E_0-1-rgb_front, Caption: We're going to work on a arm drill that will help you have graceful hand movements in front of you....\n",
      "Video: -d5dN54tH2E_11-1-rgb_front, Caption: And just let those fingers relax....\n",
      "Video: -d5dN54tH2E_13-1-rgb_front, Caption: Do it very mechanically at first and then slowly soften it out as you feel comfortable....\n",
      "\n",
      "Esempi negativi:\n",
      "Video: -f1_kdl050s_0-1-rgb_front, Caption: In this clip we are going to talk about dangers for these birds in the household and otherwise....\n",
      "Video: -f1_kdl050s_1-1-rgb_front, Caption: The number one loss for these birds, is flight....\n",
      "Video: -f1_kdl050s_11-1-rgb_front, Caption: It seems to be the number one way to loose them....\n",
      "\n",
      "Esempi neutri:\n",
      "Video: -d5dN54tH2E_1-1-rgb_front, Caption: I call it painting the wall....\n",
      "Video: -d5dN54tH2E_10-1-rgb_front, Caption: So we're going to go up and down...\n",
      "Video: -d5dN54tH2E_12-1-rgb_front, Caption: Now together you're going to go opposite....\n"
     ]
    },
    {
     "data": {
      "image/png": "[encoded data removed]",
      "text/plain": [
       "<Figure size 1000x600 with 1 Axes>"
      ]
     },
     "metadata": {},
     "output_type": "display_data"
    }
   ],
   "source": [
    "# Step 4: Calcola sentiment per ogni video-caption pair e organizza per categorie\n",
    "import matplotlib.pyplot as plt\n",
    "from collections import Counter\n",
    "\n",
    "analyzer = SentimentIntensityAnalyzer()\n",
    "\n",
    "# Calcola il sentiment per ogni caption\n",
    "video_sentiment_data = []\n",
    "for video_name, caption in video_caption_mapping.items():\n",
    "    scores = analyzer.polarity_scores(caption)\n",
    "    compound_score = scores[\"compound\"]\n",
    "\n",
    "    # Determina la categoria\n",
    "    if compound_score >= 0.25:\n",
    "        category = \"Positive\"\n",
    "    elif compound_score <= -0.25:\n",
    "        category = \"Negative\"\n",
    "    else:\n",
    "        category = \"Neutral\"\n",
    "\n",
    "    video_sentiment_data.append(\n",
    "        {\n",
    "            \"video_name\": video_name,\n",
    "            \"caption\": caption,\n",
    "            \"compound_score\": compound_score,\n",
    "            \"category\": category,\n",
    "            \"scores\": scores,\n",
    "        }\n",
    "    )\n",
    "\n",
    "# Organizza per categoria\n",
    "positive_examples = [\n",
    "    item for item in video_sentiment_data if item[\"category\"] == \"Positive\"\n",
    "]\n",
    "negative_examples = [\n",
    "    item for item in video_sentiment_data if item[\"category\"] == \"Negative\"\n",
    "]\n",
    "neutral_examples = [\n",
    "    item for item in video_sentiment_data if item[\"category\"] == \"Neutral\"\n",
    "]\n",
    "\n",
    "# Conta le occorrenze\n",
    "category_counts = Counter([item[\"category\"] for item in video_sentiment_data])\n",
    "\n",
    "print(f\"Distribuzione sentiment:\")\n",
    "print(f\"Positive: {len(positive_examples)} esempi\")\n",
    "print(f\"Negative: {len(negative_examples)} esempi\")\n",
    "print(f\"Neutral: {len(neutral_examples)} esempi\")\n",
    "print(f\"Totale: {len(video_sentiment_data)} esempi\")\n",
    "\n",
    "# Mostra esempi per ogni categoria\n",
    "print(\"\\nEsempi positivi:\")\n",
    "for example in positive_examples[:3]:\n",
    "    print(f\"Video: {example['video_name']}, Caption: {example['caption'][:100]}...\")\n",
    "\n",
    "print(\"\\nEsempi negativi:\")\n",
    "for example in negative_examples[:3]:\n",
    "    print(f\"Video: {example['video_name']}, Caption: {example['caption'][:100]}...\")\n",
    "\n",
    "print(\"\\nEsempi neutri:\")\n",
    "for example in neutral_examples[:3]:\n",
    "    print(f\"Video: {example['video_name']}, Caption: {example['caption'][:100]}...\")\n",
    "\n",
    "# Crea il grafico\n",
    "plt.figure(figsize=(10, 6))\n",
    "plt.bar(\n",
    "    category_counts.keys(), category_counts.values(), color=[\"green\", \"red\", \"gray\"]\n",
    ")\n",
    "plt.title(\"Distribuzione delle emozioni\")\n",
    "plt.xlabel(\"Emozione\")\n",
    "plt.ylabel(\"Numero di video\")\n",
    "plt.show()"
   ]
  },
  {
   "cell_type": "code",
   "execution_count": 21,
   "id": "95a12cfe",
   "metadata": {},
   "outputs": [
    {
     "data": {
      "image/png": "[encoded data removed]",
      "text/plain": [
       "<Figure size 640x480 with 1 Axes>"
      ]
     },
     "metadata": {},
     "output_type": "display_data"
    }
   ],
   "source": [
    "# Estrai tutti i valori 'compound'\n",
    "compound_scores = [res[\"compound\"] for res in results]\n",
    "\n",
    "# Crea l'istogramma\n",
    "plt.hist(compound_scores, bins=10, color=\"skyblue\", edgecolor=\"black\")\n",
    "plt.title(\"Distribuzione dei punteggi 'compound' (sentiment)\")\n",
    "plt.xlabel(\"Valore compound\")\n",
    "plt.ylabel(\"Numero di frasi\")\n",
    "plt.show()"
   ]
  },
  {
   "cell_type": "code",
   "execution_count": null,
   "id": "f57ae606",
   "metadata": {},
   "outputs": [],
   "source": []
  },
  {
   "cell_type": "code",
   "execution_count": null,
   "id": "96c83aff",
   "metadata": {},
   "outputs": [],
   "source": []
  },
  {
   "cell_type": "code",
   "execution_count": null,
   "id": "a3fd1cce",
   "metadata": {},
   "outputs": [],
   "source": []
  },
  {
   "cell_type": "code",
   "execution_count": null,
   "id": "7a284004",
   "metadata": {},
   "outputs": [],
   "source": []
  }
 ],
 "metadata": {
  "kernelspec": {
   "display_name": ".venv",
   "language": "python",
   "name": "python3"
  },
  "language_info": {
   "codemirror_mode": {
    "name": "ipython",
    "version": 3
   },
   "file_extension": ".py",
   "mimetype": "text/x-python",
   "name": "python",
   "nbconvert_exporter": "python",
   "pygments_lexer": "ipython3",
   "version": "3.10.16"
  }
 },
 "nbformat": 4,
 "nbformat_minor": 5
}
